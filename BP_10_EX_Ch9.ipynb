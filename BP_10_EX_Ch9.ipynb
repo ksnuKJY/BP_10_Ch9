{
  "nbformat": 4,
  "nbformat_minor": 0,
  "metadata": {
    "colab": {
      "provenance": [],
      "authorship_tag": "ABX9TyPm5lE3y+VAoXvIgXS3rRhj",
      "include_colab_link": true
    },
    "kernelspec": {
      "name": "python3",
      "display_name": "Python 3"
    },
    "language_info": {
      "name": "python"
    }
  },
  "cells": [
    {
      "cell_type": "markdown",
      "metadata": {
        "id": "view-in-github",
        "colab_type": "text"
      },
      "source": [
        "<a href=\"https://colab.research.google.com/github/ksnuKJY/BP_10_Ch9/blob/main/BP_10_EX_Ch9.ipynb\" target=\"_parent\"><img src=\"https://colab.research.google.com/assets/colab-badge.svg\" alt=\"Open In Colab\"/></a>"
      ]
    },
    {
      "cell_type": "code",
      "execution_count": 1,
      "metadata": {
        "colab": {
          "base_uri": "https://localhost:8080/"
        },
        "id": "R-tg_8i9U9ZN",
        "outputId": "4c661bd9-64f7-4a81-e9c1-90695e919bd6"
      },
      "outputs": [
        {
          "output_type": "stream",
          "name": "stdout",
          "text": [
            "정수를 입력하시오: 10\n",
            "정수를 입력하시오: 20\n",
            "정수를 입력하시오: 30\n",
            "정수를 입력하시오: 40\n",
            "정수를 입력하시오: 50\n",
            "평균= 30.0\n"
          ]
        }
      ],
      "source": [
        "alist = []\n",
        "sum = 0\n",
        "for i in range(5):\n",
        " i = int(input(\"정수를 입력하시오: \"))\n",
        " alist.append(i)\n",
        "for i in alist:\n",
        " sum += i\n",
        "avg = sum/len(alist)\n",
        "print(\"평균=\", avg)"
      ]
    },
    {
      "cell_type": "code",
      "source": [
        "import random\n",
        "counters = [0, 0, 0, 0, 0, 0]\n",
        "for i in range(1000):\n",
        " value = random.randint(0, 5)\n",
        " counters[value] = counters[value] + 1\n",
        "\n",
        "for i in range(6) :\n",
        " print(\"주사위가 \", i+1, \"인 경우는 \", counters[i], \"번\")"
      ],
      "metadata": {
        "colab": {
          "base_uri": "https://localhost:8080/"
        },
        "id": "l_eh1vaDVE9V",
        "outputId": "bf6a1b04-09a5-401b-83d6-707e6fc03a85"
      },
      "execution_count": 2,
      "outputs": [
        {
          "output_type": "stream",
          "name": "stdout",
          "text": [
            "주사위가  1 인 경우는  168 번\n",
            "주사위가  2 인 경우는  187 번\n",
            "주사위가  3 인 경우는  156 번\n",
            "주사위가  4 인 경우는  151 번\n",
            "주사위가  5 인 경우는  171 번\n",
            "주사위가  6 인 경우는  167 번\n"
          ]
        }
      ]
    },
    {
      "cell_type": "code",
      "source": [
        "contacts = { }\n",
        "while True:\n",
        " name = input(\"(입력모드)이름을 입력하시오: \")\n",
        " if not name:\n",
        " break;\n",
        " tel = input(\"전화번호를 입력하시오: \")\n",
        " contacts[name] = tel\n",
        "while True:\n",
        " name = input(\"(검색모드)이름을 입력하시오: \")\n",
        " if not name:\n",
        " break;\n",
        " if name in contacts :\n",
        " print(name, \"의 전화번호는\", contacts[name], \"입니다.\")\n",
        " else:"
      ],
      "metadata": {
        "colab": {
          "base_uri": "https://localhost:8080/",
          "height": 136
        },
        "id": "ZwFbkgyqVIOm",
        "outputId": "22a42a6a-a5ce-4c6d-bd7f-188cc846827f"
      },
      "execution_count": 3,
      "outputs": [
        {
          "output_type": "error",
          "ename": "IndentationError",
          "evalue": "ignored",
          "traceback": [
            "\u001b[0;36m  File \u001b[0;32m\"<ipython-input-3-27f693000184>\"\u001b[0;36m, line \u001b[0;32m5\u001b[0m\n\u001b[0;31m    break;\u001b[0m\n\u001b[0m        ^\u001b[0m\n\u001b[0;31mIndentationError\u001b[0m\u001b[0;31m:\u001b[0m expected an indented block\n"
          ]
        }
      ]
    },
    {
      "cell_type": "code",
      "source": [
        "import turtle\n",
        "import random\n",
        "t = turtle.Turtle()\n",
        "t.shape(\"turtle\")\n",
        "def draw_square(x, y, c):\n",
        " t.up()\n",
        " t.goto(x, y)\n",
        " t.down()\n",
        " t.color(\"black\",c)\n",
        " t.begin_fill()\n",
        " t.forward(100)\n",
        " t.left(90)\n",
        " t.forward(100)\n",
        " t.left(90)\n",
        " t.forward(100)\n",
        " t.left(90)\n",
        " t.forward(100)\n",
        " t.left(90)\n",
        " t.end_fill()\n",
        "for c in [\"yellow\", \"red\", \"purple\", \"blue\"]:\n",
        " x = random.randint(-100, 100)\n",
        " y = random.randint(-100, 100)\n",
        " draw_square(x, y, c)"
      ],
      "metadata": {
        "id": "KXrrmqPvVaXP"
      },
      "execution_count": null,
      "outputs": []
    },
    {
      "cell_type": "code",
      "source": [
        "import turtle\n",
        "import random\n",
        "t = turtle.Turtle()\n",
        "s = turtle.Screen()\n",
        "def draw_shape(t, c, length, sides, x, y):\n",
        " t.up()\n",
        " t.goto(x, y)\n",
        " t.down()\n",
        " t.fillcolor(c)\n",
        " angle = 360.0 / sides\n",
        " t.begin_fill()\n",
        " for dist in range(sides):\n",
        " t.forward(length)\n",
        " t.left(angle)\n",
        " t.end_fill()\n",
        "for i in range(10):\n",
        " color = random.choice([ 'white', 'yellow', 'blue', 'skyblue', 'orange', 'green' ])\n",
        " side_length = random.randint(10, 100)\n",
        " sides = random.randint(3, 10)\n",
        " x = random.randint(-200, 200)\n",
        " y = random.randint(-200, 200)\n",
        " draw_shape(t, color, side_length, sides, x, y)"
      ],
      "metadata": {
        "id": "qndTx5gvVedY"
      },
      "execution_count": null,
      "outputs": []
    },
    {
      "cell_type": "code",
      "source": [
        "import turtle\n",
        "import random\n",
        "t = turtle.Turtle()\n",
        "s = turtle.Screen()\n",
        "s.bgcolor(\"black\")\n",
        "def draw_star(aturtle, colour, side_length, x, y):\n",
        " aturtle.color(colour)\n",
        " aturtle.begin_fill()\n",
        " aturtle.penup()\n",
        " aturtle.goto(x, y)\n",
        " aturtle.pendown()\n",
        " for i in range(5):\n",
        " aturtle.forward(side_length)\n",
        " aturtle.right(144)\n",
        " aturtle.forward(side_length)\n",
        " aturtle.end_fill()\n",
        "for i in range(20):\n",
        " color = random.choice([ 'white', 'yellow', 'blue', 'skyblue', 'orange', 'green' ])\n",
        " side_length = random.randint(10, 100)\n",
        " x = random.randint(-200, 200)\n",
        " y = random.randint(-200, 200)\n",
        " draw_star(t, color, side_length, x, y)"
      ],
      "metadata": {
        "id": "ymtwGNODVgpt"
      },
      "execution_count": null,
      "outputs": []
    },
    {
      "cell_type": "code",
      "source": [
        "domains = { \"kr\": \"대한민국\", \"us\": \"미국\",\"jp\": \"일본\", \"de\": \"독일\", \"sk\": \"슬로바키아\n",
        "\", \"hu\": \"헝가리\", \"no\": \"노르웨이\" }\n",
        "for k, v in domains.items():\n",
        " print (k, \": \", v)"
      ],
      "metadata": {
        "colab": {
          "base_uri": "https://localhost:8080/",
          "height": 154
        },
        "id": "pDQM5d4XViZ5",
        "outputId": "8c1ffa41-50d5-4d8a-be58-996d064e6f64"
      },
      "execution_count": 6,
      "outputs": [
        {
          "output_type": "error",
          "ename": "SyntaxError",
          "evalue": "ignored",
          "traceback": [
            "\u001b[0;36m  File \u001b[0;32m\"<ipython-input-6-e6f5f8bc6256>\"\u001b[0;36m, line \u001b[0;32m1\u001b[0m\n\u001b[0;31m    domains = { \"kr\": \"대한민국\", \"us\": \"미국\",\"jp\": \"일본\", \"de\": \"독일\", \"sk\": \"슬로바키아\u001b[0m\n\u001b[0m                                                                             ^\u001b[0m\n\u001b[0;31mSyntaxError\u001b[0m\u001b[0;31m:\u001b[0m EOL while scanning string literal\n"
          ]
        }
      ]
    },
    {
      "cell_type": "code",
      "source": [
        "problems = {'파이썬': '최근에 가장 떠오르는 프로그래밍 언어',\n",
        " '변수': '데이터를 저장하는 메모리 공간',\n",
        " '함수': '작업을 수행하는 문장들의 집합에 이름을 붙인것',\n",
        " '리스트': '서로 관련이 없는 항목들의 모임', \n",
        " }\n",
        "def show_words(problems):\n",
        " display_message = \"\"\n",
        " i=1\n",
        " for word in problems.keys():\n",
        " display_message += \"(\"+str(i)+\")\"\n",
        " display_message += word + \" \"\n",
        " i+=1\n",
        " print( display_message)\n",
        "for meaning in problems.values():\n",
        " print(\"다음은 어떤 단어에 대한 설명일까요? \")\n",
        " print(\"\\\"\"+meaning+\"\\\"\")\n",
        " correct = False\n",
        " while not correct:\n",
        " show_words(problems)\n",
        " guessed_word = input(\"\")\n",
        " if problems[guessed_word] == meaning:\n",
        " print(\"정답입니다. !\")\n",
        " correct = True\n",
        " else:\n",
        " print(\"정답이 아닙니다.\")"
      ],
      "metadata": {
        "colab": {
          "base_uri": "https://localhost:8080/",
          "height": 136
        },
        "id": "mh-7_IFHVlKC",
        "outputId": "c81e25d9-da1f-4585-e06b-636bfd308938"
      },
      "execution_count": 5,
      "outputs": [
        {
          "output_type": "error",
          "ename": "IndentationError",
          "evalue": "ignored",
          "traceback": [
            "\u001b[0;36m  File \u001b[0;32m\"<ipython-input-5-47df343341a5>\"\u001b[0;36m, line \u001b[0;32m10\u001b[0m\n\u001b[0;31m    display_message += \"(\"+str(i)+\")\"\u001b[0m\n\u001b[0m                  ^\u001b[0m\n\u001b[0;31mIndentationError\u001b[0m\u001b[0;31m:\u001b[0m expected an indented block\n"
          ]
        }
      ]
    }
  ]
}